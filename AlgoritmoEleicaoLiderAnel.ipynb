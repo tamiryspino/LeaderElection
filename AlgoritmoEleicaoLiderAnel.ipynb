{
 "cells": [
  {
   "cell_type": "markdown",
   "metadata": {},
   "source": [
    ">>  UNIVERSIDADE FEDERAL DE ALAGOAS  \n",
    ">>  INSTITUTO DE COMPUTAÇÃO  \n",
    ">>  CIÊNCIA DA COMPUTAÇÃO  \n",
    ">>  SISTEMAS DISTRIBUÍDOS  \n",
    ">>  PROF. ANDRÉ LAGE FREITAS  \n",
    "\n",
    ">Aluna: Tamirys Coelho de Oliveira Pino  \n",
    ">Matrícula: 11111457"
   ]
  },
  {
   "cell_type": "markdown",
   "metadata": {},
   "source": [
    "**Especificação: ** A atividade complementar da AB2 (10% da AB2) será a implementação e explicação do algoritmo de *comunicação em grupo* ou de *eleição de líder* que vocês escolheram e estudaram. Implementem em qualquer linguagem de programação e documente detalhadamente (em comentários) como o algoritmo funciona. Explique os passos para compilação e execução do programa no Ubuntu 15.10, incluindo instalação de pacotes (apenas com apt-get e repositórios oficiais). Entrega exclusivamente por email até o  dia 08/05/16 (prazo não extensível)."
   ]
  },
  {
   "cell_type": "markdown",
   "metadata": {},
   "source": [
    "<h3 style=\"text-align: center;\" markdown=\"1\"> Atividade Complementar da AB2</h3>"
   ]
  },
  {
   "cell_type": "markdown",
   "metadata": {},
   "source": [
    "O algoritmo escolhido foi o **algoritmo de eleição de líder em anel**. Cada processo P_i_ está conectado ao próximo processo P_i+1_. Um processo solicita a eleição por vez. O processo que tiver o maior ID é o eleito. Inicialmente, o líder é o processo que solicitou a eleição de líder. Ao ser encontrado um ID maior, este passa a ser o novo líder. Até que se o processo recebe uma mensagem com o identificador idêntico ao seu, então a eleição termina e ele é o líder oficial. Este evento só ocorre quando a mensagem contendo o maior identificador circulou por todo o anel, tornando todos os seus membros cientes do resultado.  \n",
    "Na atividade abaixo, cada nó do grafo é um processo P_i_, eles são aleatoriamente organizados. Um nó aleatório solicita a eleição de líder. Abaixo encontra-se o código comentado com os recursos utilizados."
   ]
  },
  {
   "cell_type": "code",
   "execution_count": 1,
   "metadata": {
    "collapsed": false
   },
   "outputs": [
    {
     "name": "stderr",
     "output_type": "stream",
     "text": [
      "INFO: Nothing to be done\n",
      "INFO: METADATA is out-of-date — you may not have the latest version of Graphs\n",
      "INFO: Use `Pkg.update()` to get the latest versions of your packages\n"
     ]
    },
    {
     "name": "stdout",
     "output_type": "stream",
     "text": [
      "[8"
     ]
    }
   ],
   "source": [
    "#Adiciona o pacote que torna possível a utilização de grafos\n",
    "#Os grafos foram utilizados para melhor representação visual do anel\n",
    "Pkg.add(\"Graphs\")\n",
    "using Graphs\n",
    "\n",
    "#Essa função recebe um grafo não preenchido e uma sequencia de ids de processos e cria um grafo cíclico\n",
    "#Seguindo a ordem dos ids passados\n",
    "function criaAnel(P, ids)\n",
    "    i = 1\n",
    "    j = i+1\n",
    "    qntProc = length(ids)\n",
    "    while i<qntProc\n",
    "        #Adiciona arestas entre os processos i e j, de acordo com a ordem passada pelo parametro ids\n",
    "        add_edge!(P, ids[i], ids[j])\n",
    "        i = i+1\n",
    "        j = j+1\n",
    "    end\n",
    "    add_edge!(P, ids[qntProc], ids[1])\n",
    "end\n",
    "\n",
    "#Quantidade de elementos de um anel de processos\n",
    "n = 8\n",
    "#Desordena um array de n elementos\n",
    "eleicao = sortperm(randn(n))\n",
    "\n",
    "#Cria um grafo P não preenchido\n",
    "P = simple_graph(n)\n",
    "\n",
    "#Cria um grafo cíclico (anel) com a ordenação definida pelo parâmetro eleicao\n",
    "criaAnel(P, eleicao)\n",
    "\n",
    "#Exige a ordenação do array de processos (nós do grafo)\n",
    "println(eleicao)"
   ]
  },
  {
   "cell_type": "markdown",
   "metadata": {},
   "source": [
    "###A imagem do grafo abaixo deixa mais clara a visualização do anel."
   ]
  },
  {
   "cell_type": "code",
   "execution_count": 2,
   "metadata": {
    "collapsed": false
   },
   "outputs": [
    {
     "name": "stderr",
     "output_type": "stream",
     "text": [
      "INFO: Nothing to be done\n"
     ]
    },
    {
     "name": "stdout",
     "output_type": "stream",
     "text": [
      ",1,5,4,3,2,6,7]\n"
     ]
    },
    {
     "name": "stderr",
     "output_type": "stream",
     "text": [
      "INFO: METADATA is out-of-date — you may not have the latest version of TikzGraphs\n",
      "INFO: Use `Pkg.update()` to get the latest versions of your packages\n"
     ]
    },
    {
     "data": {
      "image/svg+xml": [
       "<?xml version=\"1.0\" encoding=\"UTF-8\"?>\n",
       "<svg xmlns=\"http://www.w3.org/2000/svg\" xmlns:xlink=\"http://www.w3.org/1999/xlink\" width=\"74.36pt\" height=\"76.086pt\" viewBox=\"0 0 74.36 76.086\" version=\"1.1\">\n",
       "<defs>\n",
       "<g>\n",
       "<symbol overflow=\"visible\" id=\"glyph-1464714725606376-0-0\">\n",
       "<path style=\"stroke:none;\" d=\"\"/>\n",
       "</symbol>\n",
       "<symbol overflow=\"visible\" id=\"glyph-1464714725606376-0-1\">\n",
       "<path style=\"stroke:none;\" d=\"M 4.75 -1.796875 C 4.75 -2.15625 4.578125 -2.71875 4.203125 -3.125 C 4.015625 -3.34375 3.859375 -3.4375 3.375 -3.734375 C 3.9375 -4.015625 4.484375 -4.625 4.484375 -5.28125 C 4.484375 -6.203125 3.40625 -6.90625 2.5 -6.90625 C 1.5 -6.90625 0.484375 -6.03125 0.484375 -5.109375 C 0.484375 -4.921875 0.5625 -4.390625 0.984375 -3.921875 C 1.09375 -3.796875 1.46875 -3.546875 1.546875 -3.484375 C 1.140625 -3.28125 0.21875 -2.625 0.21875 -1.640625 C 0.21875 -0.578125 1.4375 0.21875 2.484375 0.21875 C 3.609375 0.21875 4.75 -0.734375 4.75 -1.796875 Z M 3.65625 -5.28125 C 3.65625 -4.71875 3.3125 -4.34375 2.859375 -4.0625 L 1.765625 -4.78125 C 1.3125 -5.078125 1.328125 -5.328125 1.328125 -5.5 C 1.328125 -6.09375 1.78125 -6.390625 2.484375 -6.390625 C 3.203125 -6.390625 3.65625 -6 3.65625 -5.28125 Z M 3.859375 -1.453125 C 3.859375 -0.703125 3.3125 -0.328125 2.5 -0.328125 C 1.640625 -0.328125 1.109375 -0.8125 1.109375 -1.640625 C 1.109375 -2.21875 1.375 -2.765625 2.078125 -3.140625 L 3.171875 -2.453125 C 3.453125 -2.265625 3.859375 -2.046875 3.859375 -1.453125 Z M 3.859375 -1.453125 \"/>\n",
       "</symbol>\n",
       "<symbol overflow=\"visible\" id=\"glyph-1464714725606376-0-2\">\n",
       "<path style=\"stroke:none;\" d=\"M 4.375 -0.125 L 4.375 -0.578125 L 3.859375 -0.578125 C 2.953125 -0.578125 3.125 -0.546875 3.125 -0.921875 L 3.125 -6.515625 C 3.125 -6.75 2.9375 -6.90625 2.59375 -6.90625 C 1.9375 -6.234375 1.203125 -6.265625 0.6875 -6.265625 L 0.6875 -5.6875 C 1.09375 -5.6875 1.8125 -5.734375 2 -5.828125 L 2 -0.921875 C 2 -0.5625 2.15625 -0.578125 1.265625 -0.578125 L 0.75 -0.578125 L 0.75 0.015625 C 1.296875 -0.03125 2.15625 -0.03125 2.5625 -0.03125 C 2.953125 -0.03125 3.828125 -0.03125 4.375 0.015625 Z M 4.375 -0.125 \"/>\n",
       "</symbol>\n",
       "<symbol overflow=\"visible\" id=\"glyph-1464714725606376-0-3\">\n",
       "<path style=\"stroke:none;\" d=\"M 4.671875 -2.140625 C 4.671875 -3.3125 3.65625 -4.453125 2.578125 -4.453125 C 2.109375 -4.453125 1.53125 -4.25 1.515625 -4.234375 L 1.515625 -5.5625 C 1.515625 -5.5625 1.84375 -5.5 2.15625 -5.5 C 3.390625 -5.5 4.28125 -6.53125 4.28125 -6.65625 C 4.28125 -6.71875 4.0625 -6.90625 3.984375 -6.90625 L 4.125 -6.671875 C 4.125 -6.671875 3.8125 -6.875 3.625 -6.75 C 3.703125 -6.78125 3.21875 -6.59375 2.546875 -6.59375 C 2.15625 -6.59375 1.6875 -6.65625 1.21875 -6.875 C 1.140625 -6.890625 1.25 -6.671875 1.25 -6.671875 L 1.109375 -6.890625 C 1 -6.890625 0.8125 -6.671875 0.8125 -6.515625 L 0.8125 -3.5625 C 0.8125 -3.390625 1 -3.1875 1.140625 -3.1875 C 1.21875 -3.1875 1.375 -3.25 1.421875 -3.3125 C 1.53125 -3.46875 1.75 -3.96875 2.5625 -3.96875 C 3.078125 -3.96875 3.125 -3.640625 3.203125 -3.453125 C 3.375 -3.09375 3.390625 -2.703125 3.390625 -2.203125 C 3.390625 -1.859375 3.453125 -1.359375 3.203125 -0.9375 C 2.96875 -0.546875 2.734375 -0.328125 2.28125 -0.328125 C 1.5625 -0.328125 1.1875 -0.71875 1.078125 -1.09375 C 0.84375 -1.171875 0.875 -1.15625 0.984375 -1.15625 C 1.3125 -1.15625 1.6875 -1.53125 1.6875 -1.78125 C 1.6875 -2.015625 1.3125 -2.40625 0.984375 -2.40625 C 0.84375 -2.40625 0.296875 -2.1875 0.296875 -1.734375 C 0.296875 -0.875 1.1875 0.21875 2.296875 0.21875 C 3.453125 0.21875 4.671875 -0.875 4.671875 -2.140625 Z M 4.671875 -2.140625 \"/>\n",
       "</symbol>\n",
       "<symbol overflow=\"visible\" id=\"glyph-1464714725606376-0-4\">\n",
       "<path style=\"stroke:none;\" d=\"M 4.890625 -1.78125 L 4.890625 -2.21875 L 3.890625 -2.21875 L 3.890625 -6.625 C 3.890625 -6.8125 3.703125 -7.015625 3.53125 -7.015625 C 3.453125 -7.015625 3.28125 -6.984375 3.203125 -6.859375 L 0.078125 -2.09375 L 0.078125 -1.640625 L 2.734375 -1.640625 L 2.734375 -0.90625 C 2.734375 -0.546875 2.90625 -0.578125 2.171875 -0.578125 L 1.765625 -0.578125 L 1.765625 0.015625 C 2.375 -0.03125 2.890625 -0.03125 3.3125 -0.03125 C 3.734375 -0.03125 4.25 -0.03125 4.859375 0.015625 L 4.859375 -0.578125 L 4.453125 -0.578125 C 3.71875 -0.578125 3.890625 -0.546875 3.890625 -0.90625 L 3.890625 -1.640625 L 4.890625 -1.640625 Z M 2.984375 -2.21875 L 0.84375 -2.21875 L 3.125 -5.71875 L 2.796875 -5.796875 L 2.796875 -2.21875 Z M 2.984375 -2.21875 \"/>\n",
       "</symbol>\n",
       "<symbol overflow=\"visible\" id=\"glyph-1464714725606376-0-5\">\n",
       "<path style=\"stroke:none;\" d=\"M 4.75 -1.828125 C 4.75 -2.65625 3.921875 -3.5625 2.890625 -3.78125 L 2.890625 -3.515625 C 3.703125 -3.78125 4.484375 -4.609375 4.484375 -5.390625 C 4.484375 -6.203125 3.40625 -6.90625 2.453125 -6.90625 C 1.453125 -6.90625 0.484375 -6.171875 0.484375 -5.40625 C 0.484375 -5.078125 0.90625 -4.765625 1.203125 -4.765625 C 1.5 -4.765625 1.90625 -5.109375 1.90625 -5.40625 C 1.90625 -5.90625 1.234375 -6.046875 1.359375 -6.046875 C 1.53125 -6.296875 2.046875 -6.390625 2.40625 -6.390625 C 2.828125 -6.390625 3.171875 -6.296875 3.171875 -5.40625 C 3.171875 -5.28125 3.203125 -4.8125 2.953125 -4.359375 C 2.65625 -3.890625 2.453125 -3.890625 2.203125 -3.890625 C 2.125 -3.875 1.890625 -3.859375 1.8125 -3.859375 C 1.734375 -3.84375 1.46875 -3.703125 1.46875 -3.59375 C 1.46875 -3.484375 1.734375 -3.359375 1.90625 -3.359375 L 2.34375 -3.359375 C 3.15625 -3.359375 3.328125 -2.8125 3.328125 -1.828125 C 3.328125 -0.484375 2.84375 -0.328125 2.40625 -0.328125 C 1.96875 -0.328125 1.359375 -0.453125 1.171875 -0.765625 C 1.21875 -0.765625 1.734375 -1.109375 1.734375 -1.5 C 1.734375 -1.859375 1.265625 -2.1875 0.984375 -2.1875 C 0.734375 -2.1875 0.21875 -1.90625 0.21875 -1.46875 C 0.21875 -0.5625 1.34375 0.21875 2.4375 0.21875 C 3.65625 0.21875 4.75 -0.8125 4.75 -1.828125 Z M 4.75 -1.828125 \"/>\n",
       "</symbol>\n",
       "<symbol overflow=\"visible\" id=\"glyph-1464714725606376-0-6\">\n",
       "<path style=\"stroke:none;\" d=\"M 4.46875 -2 L 4.03125 -2 C 3.984375 -1.640625 3.96875 -1.21875 3.875 -1.078125 C 3.796875 -1 3.28125 -1.03125 3.0625 -1.03125 L 1.640625 -1.03125 L 2.46875 -1.828125 C 4.015625 -3.203125 4.671875 -3.84375 4.671875 -4.828125 C 4.671875 -5.96875 3.578125 -6.90625 2.359375 -6.90625 C 1.234375 -6.90625 0.296875 -5.859375 0.296875 -4.96875 C 0.296875 -4.40625 1 -4.28125 1.03125 -4.28125 C 1.203125 -4.28125 1.75 -4.53125 1.75 -4.9375 C 1.75 -5.1875 1.359375 -5.59375 1.015625 -5.59375 C 0.9375 -5.59375 0.921875 -5.59375 1.171875 -5.671875 C 1.3125 -6.09375 1.65625 -6.328125 2.234375 -6.328125 C 3.140625 -6.328125 3.375 -5.65625 3.375 -4.828125 C 3.375 -4.03125 2.9375 -3.34375 2.375 -2.734375 L 0.46875 -0.59375 C 0.359375 -0.484375 0.296875 -0.375 0.296875 0 L 4.359375 0 L 4.6875 -2 Z M 4.46875 -2 \"/>\n",
       "</symbol>\n",
       "<symbol overflow=\"visible\" id=\"glyph-1464714725606376-0-7\">\n",
       "<path style=\"stroke:none;\" d=\"M 4.75 -2.15625 C 4.75 -3.421875 3.671875 -4.53125 2.5625 -4.53125 C 1.890625 -4.53125 1.3125 -3.953125 1.109375 -3.46875 L 1.515625 -3.40625 L 1.515625 -3.640625 C 1.515625 -6.15625 2.546875 -6.390625 3.0625 -6.390625 C 3.296875 -6.390625 3.578125 -6.375 3.640625 -6.265625 C 3.78125 -6.265625 3.1875 -6.125 3.1875 -5.671875 C 3.1875 -5.359375 3.625 -5.078125 3.84375 -5.078125 C 4 -5.078125 4.5 -5.296875 4.5 -5.6875 C 4.5 -6.296875 3.875 -6.90625 3.046875 -6.90625 C 1.765625 -6.90625 0.21875 -5.484375 0.21875 -3.28125 C 0.21875 -0.625 1.578125 0.21875 2.5 0.21875 C 3.609375 0.21875 4.75 -0.84375 4.75 -2.15625 Z M 3.453125 -2.171875 C 3.453125 -1.6875 3.453125 -1.265625 3.296875 -0.90625 L 3.34375 -0.9375 C 3.046875 -0.34375 2.734375 -0.328125 2.5 -0.328125 C 1.875 -0.328125 1.78125 -0.78125 1.71875 -0.9375 C 1.53125 -1.40625 1.53125 -2.203125 1.53125 -2.375 C 1.53125 -3.15625 1.65625 -4.03125 2.546875 -4.03125 C 2.71875 -4.03125 3.03125 -4.0625 3.34375 -3.453125 L 3.28125 -3.53125 C 3.453125 -3.171875 3.453125 -2.65625 3.453125 -2.171875 Z M 3.453125 -2.171875 \"/>\n",
       "</symbol>\n",
       "<symbol overflow=\"visible\" id=\"glyph-1464714725606376-0-8\">\n",
       "<path style=\"stroke:none;\" d=\"M 4.828125 -6.6875 L 2.40625 -6.6875 C 1.203125 -6.6875 1.375 -6.671875 1.3125 -7.015625 L 0.703125 -7.015625 L 0.3125 -4.6875 L 0.984375 -4.6875 C 1.03125 -4.96875 1.0625 -5.515625 1.203125 -5.625 C 1.265625 -5.6875 1.90625 -5.65625 2.03125 -5.65625 L 3.78125 -5.65625 L 2.84375 -4.3125 C 1.9375 -2.953125 1.5625 -1.46875 1.5625 -0.453125 C 1.5625 -0.359375 1.75 0.21875 2.21875 0.21875 C 2.671875 0.21875 2.875 -0.359375 2.875 -0.453125 L 2.875 -0.96875 C 2.875 -1.515625 2.90625 -2.0625 2.984375 -2.609375 C 3.015625 -2.828125 3.09375 -3.59375 3.53125 -4.21875 L 4.890625 -6.109375 C 4.96875 -6.234375 5.03125 -6.34375 5.03125 -6.6875 Z M 4.828125 -6.6875 \"/>\n",
       "</symbol>\n",
       "</g>\n",
       "</defs>\n",
       "<g id=\"surface1\">\n",
       "<path style=\"fill:none;stroke-width:0.3985;stroke-linecap:butt;stroke-linejoin:miter;stroke:rgb(0%,0%,0%);stroke-opacity:1;stroke-miterlimit:10;\" d=\"M 0.00178125 -6.947 L 0.00178125 -18.700906 \" transform=\"matrix(1,0,0,-1,68.549,25.178)\"/>\n",
       "<path style=\"fill:none;stroke-width:0.31879;stroke-linecap:round;stroke-linejoin:round;stroke:rgb(0%,0%,0%);stroke-opacity:1;stroke-miterlimit:10;\" d=\"M -1.193976 1.595531 C -1.09632 0.997875 0.00133625 0.0994375 0.298211 0.00178125 C 0.00133625 -0.0997813 -1.09632 -0.994313 -1.193976 -1.595875 \" transform=\"matrix(0,1,1,0,68.549,43.87757)\"/>\n",
       "<path style=\"fill:none;stroke-width:0.3985;stroke-linecap:butt;stroke-linejoin:miter;stroke:rgb(0%,0%,0%);stroke-opacity:1;stroke-miterlimit:10;\" d=\"M -6.009938 -31.904031 L -12.14275 -37.931375 \" transform=\"matrix(1,0,0,-1,68.549,25.178)\"/>\n",
       "<path style=\"fill:none;stroke-width:0.31879;stroke-linecap:round;stroke-linejoin:round;stroke:rgb(0%,0%,0%);stroke-opacity:1;stroke-miterlimit:10;\" d=\"M -1.195362 1.595679 C -1.096391 0.995234 -0.0018986 0.0999836 0.299611 0.000533819 C -0.000182305 -0.0985964 -1.095729 -0.996225 -1.195386 -1.592871 \" transform=\"matrix(-0.71422,0.70198,0.70198,0.71422,56.40502,63.10961)\"/>\n",
       "<path style=\"fill:none;stroke-width:0.3985;stroke-linecap:butt;stroke-linejoin:miter;stroke:rgb(0%,0%,0%);stroke-opacity:1;stroke-miterlimit:10;\" d=\"M -24.490406 -44.154031 L -37.826344 -44.1345 \" transform=\"matrix(1,0,0,-1,68.549,25.178)\"/>\n",
       "<path style=\"fill:none;stroke-width:0.31879;stroke-linecap:round;stroke-linejoin:round;stroke:rgb(0%,0%,0%);stroke-opacity:1;stroke-miterlimit:10;\" d=\"M -1.19613 1.592311 C -1.097655 0.99479 0.00122968 0.0978579 0.298238 0.000608586 C 0.00150261 -0.10136 -1.094926 -0.997394 -1.19567 -1.595188 \" transform=\"matrix(-1,-0.00137,-0.00137,1,30.72402,69.3123)\"/>\n",
       "<path style=\"fill:none;stroke-width:0.3985;stroke-linecap:butt;stroke-linejoin:miter;stroke:rgb(0%,0%,0%);stroke-opacity:1;stroke-miterlimit:10;\" d=\"M -50.302906 -38.169656 L -56.400563 -32.126688 \" transform=\"matrix(1,0,0,-1,68.549,25.178)\"/>\n",
       "<path style=\"fill:none;stroke-width:0.31879;stroke-linecap:round;stroke-linejoin:round;stroke:rgb(0%,0%,0%);stroke-opacity:1;stroke-miterlimit:10;\" d=\"M -1.195057 1.591902 C -1.095612 0.997856 -0.000876936 0.098336 0.299614 0.000334835 C -0.00178313 -0.100444 -1.096429 -0.998266 -1.193016 -1.594179 \" transform=\"matrix(-0.71065,-0.7042,-0.7042,0.71065,12.14675,57.3045)\"/>\n",
       "<path style=\"fill:none;stroke-width:0.3985;stroke-linecap:butt;stroke-linejoin:miter;stroke:rgb(0%,0%,0%);stroke-opacity:1;stroke-miterlimit:10;\" d=\"M -62.681813 -18.900125 L -62.591969 -7.243875 \" transform=\"matrix(1,0,0,-1,68.549,25.178)\"/>\n",
       "<path style=\"fill:none;stroke-width:0.31879;stroke-linecap:round;stroke-linejoin:round;stroke:rgb(0%,0%,0%);stroke-opacity:1;stroke-miterlimit:10;\" d=\"M -1.195862 1.59384 C -1.097355 0.996969 -0.000357713 0.0994621 0.297308 0.000272043 C 0.00122996 -0.0997439 -1.097102 -0.995216 -1.193895 -1.593644 \" transform=\"matrix(0.00797,-1,-1,-0.00797,5.95884,32.42231)\"/>\n",
       "<path style=\"fill:none;stroke-width:0.3985;stroke-linecap:butt;stroke-linejoin:miter;stroke:rgb(0%,0%,0%);stroke-opacity:1;stroke-miterlimit:10;\" d=\"M -56.521656 6.010031 L -50.498219 11.982687 \" transform=\"matrix(1,0,0,-1,68.549,25.178)\"/>\n",
       "<path style=\"fill:none;stroke-width:0.31879;stroke-linecap:round;stroke-linejoin:round;stroke:rgb(0%,0%,0%);stroke-opacity:1;stroke-miterlimit:10;\" d=\"M -1.195984 1.595738 C -1.096807 0.997206 0.0000665727 0.102103 0.29861 -0.00150114 C -0.00182792 -0.0993979 -1.093766 -0.995624 -1.196089 -1.592261 \" transform=\"matrix(0.71065,-0.70457,-0.70457,-0.71065,18.05236,13.1937)\"/>\n",
       "<path style=\"fill:none;stroke-width:0.3985;stroke-linecap:butt;stroke-linejoin:miter;stroke:rgb(0%,0%,0%);stroke-opacity:1;stroke-miterlimit:10;\" d=\"M -38.150563 18.291281 L -24.724781 18.353781 \" transform=\"matrix(1,0,0,-1,68.549,25.178)\"/>\n",
       "<path style=\"fill:none;stroke-width:0.31879;stroke-linecap:round;stroke-linejoin:round;stroke:rgb(0%,0%,0%);stroke-opacity:1;stroke-miterlimit:10;\" d=\"M -1.194899 1.592952 C -1.095956 0.994863 0.00168425 0.0994301 0.298126 0.000475459 C 0.000811693 -0.0997848 -1.09687 -0.997321 -1.197142 -1.594538 \" transform=\"matrix(1,-0.00438,-0.00438,-1,43.82297,6.826)\"/>\n",
       "<path style=\"fill:none;stroke-width:0.3985;stroke-linecap:butt;stroke-linejoin:miter;stroke:rgb(0%,0%,0%);stroke-opacity:1;stroke-miterlimit:10;\" d=\"M -12.248219 12.330344 L -6.334156 6.377219 \" transform=\"matrix(1,0,0,-1,68.549,25.178)\"/>\n",
       "<path style=\"fill:none;stroke-width:0.31879;stroke-linecap:round;stroke-linejoin:round;stroke:rgb(0%,0%,0%);stroke-opacity:1;stroke-miterlimit:10;\" d=\"M -1.194399 1.592859 C -1.095859 0.99478 -0.000798823 0.0994865 0.297361 0.00121909 C -0.000127419 -0.0990626 -1.094641 -0.996245 -1.19465 -1.594995 \" transform=\"matrix(0.70586,0.71065,0.71065,-0.70586,62.21502,18.80126)\"/>\n",
       "<g style=\"fill:rgb(0%,0%,0%);fill-opacity:1;\">\n",
       "  <use xlink:href=\"#glyph-1464714725606376-0-1\" x=\"66.058\" y=\"28.386\"/>\n",
       "</g>\n",
       "<g style=\"fill:rgb(0%,0%,0%);fill-opacity:1;\">\n",
       "  <use xlink:href=\"#glyph-1464714725606376-0-2\" x=\"66.058\" y=\"54.49\"/>\n",
       "</g>\n",
       "<g style=\"fill:rgb(0%,0%,0%);fill-opacity:1;\">\n",
       "  <use xlink:href=\"#glyph-1464714725606376-0-3\" x=\"47.577\" y=\"72.546\"/>\n",
       "</g>\n",
       "<g style=\"fill:rgb(0%,0%,0%);fill-opacity:1;\">\n",
       "  <use xlink:href=\"#glyph-1464714725606376-0-4\" x=\"21.765\" y=\"72.675\"/>\n",
       "</g>\n",
       "<g style=\"fill:rgb(0%,0%,0%);fill-opacity:1;\">\n",
       "  <use xlink:href=\"#glyph-1464714725606376-0-5\" x=\"3.321\" y=\"54.233\"/>\n",
       "</g>\n",
       "<g style=\"fill:rgb(0%,0%,0%);fill-opacity:1;\">\n",
       "  <use xlink:href=\"#glyph-1464714725606376-0-6\" x=\"3.527\" y=\"28.444\"/>\n",
       "</g>\n",
       "<g style=\"fill:rgb(0%,0%,0%);fill-opacity:1;\">\n",
       "  <use xlink:href=\"#glyph-1464714725606376-0-7\" x=\"21.898\" y=\"10.119\"/>\n",
       "</g>\n",
       "<g style=\"fill:rgb(0%,0%,0%);fill-opacity:1;\">\n",
       "  <use xlink:href=\"#glyph-1464714725606376-0-8\" x=\"47.801\" y=\"10.055\"/>\n",
       "</g>\n",
       "</g>\n",
       "</svg>\n",
       "\n"
      ],
      "text/plain": [
       "TikzPictures.TikzPicture(\"\\\\graph [spring layout, random seed = 42] {\\n8 -> 1;\\n1 -> 5;\\n5 -> 4;\\n4 -> 3;\\n3 -> 2;\\n2 -> 6;\\n6 -> 7;\\n7 -> 8;\\n};\\n\",\"\",\"\\\\usepackage{fontspec}\\n\\\\setmainfont{Latin Modern Math}\\n\\\\usetikzlibrary{graphs}\\n\\\\usetikzlibrary{graphdrawing}\\n\\n\\\\usegdlibrary{force}\",true,true)"
      ]
     },
     "execution_count": 2,
     "metadata": {},
     "output_type": "execute_result"
    }
   ],
   "source": [
    "#Pacotes utilizados para habilitar a produção da imagem que representa o grafo cíclico (anel)\n",
    "Pkg.add(\"TikzGraphs\")\n",
    "using TikzGraphs\n",
    "#http://nbviewer.jupyter.org/github/sisl/TikzGraphs.jl/blob/master/doc/TikzGraphs.ipynb\n",
    "#Este pacote foi utilizado devido ao erro \"Failed to open XLIB display:\" com o pacote GraphViz\n",
    "\n",
    "\n",
    "#Plota o grafo P em formato cíclico\n",
    "TikzGraphs.plot(P, Layouts.Spring())"
   ]
  },
  {
   "cell_type": "code",
   "execution_count": 3,
   "metadata": {
    "collapsed": false
   },
   "outputs": [
    {
     "name": "stdout",
     "output_type": "stream",
     "text": [
      "8 solicitou uma eleição!\n",
      "Novo líder parcial: 8\n",
      "1 > 8 ?\n",
      "5 > 8 ?\n",
      "4 > 8 ?\n",
      "3 > 8 ?\n",
      "2 > 8 ?\n",
      "6 > 8 ?\n",
      "7 > 8 ?\n",
      "8 > 8 ?\n",
      "Líder final: 8\n"
     ]
    }
   ],
   "source": [
    "#Processo aleatório solicita a eleição\n",
    "x = rand(1:n)\n",
    "println(\"$x solicitou uma eleição!\")\n",
    "println(\"Novo líder parcial: $x\")\n",
    "\n",
    "#Array de processos é reordenado para começar a eleição pelo processo que a solicitou\n",
    "#Encontra-se o index do processo no array de processos (está operação retorna um array de um elemento)\n",
    "#Foi colocada a operação de soma para que fosse retornado um valor inteiro e não um array\n",
    "a = sum(find(eleicao -> eleicao == x, eleicao))\n",
    "#É feita a sublista a partir do processo para o final do array\n",
    "b = sub(eleicao, a:length(eleicao))\n",
    "#Outro sublista é feita do início do array até o processo\n",
    "c = sub(eleicao, 1:(a-1))\n",
    "#As sublistas são concatenadas, de forma que o processo que solicitou a eleição, comece-a, sem modificar a estrutura do anel.\n",
    "eleicao = vcat(b, c)\n",
    "\n",
    "#Lider inicial é aquele que solicitou a eleição\n",
    "leader_id = x\n",
    "#Líder final é desconhecido (será o que tiver maior ID)\n",
    "leader_final = 0\n",
    "#Quantidade total de participantes no processo\n",
    "process = length(eleicao)\n",
    "#Quantidade de processos que conhecem o novo líder\n",
    "p_knows_leader = 0\n",
    "\n",
    "while(process != p_knows_leader)\n",
    "    #Para cada membro do anel eleicao\n",
    "    for u in eleicao\n",
    "        #O id do líder atual é passado para o próximo membro do anel, seguindo o sentido horário\n",
    "        for o in out_neighbors(vertices(P)[u], P)\n",
    "            #Se o próximo membro possuir um id maior que o do líder atual, então ele toma o posto de líder\n",
    "            println(\"$o > $leader_id ?\")\n",
    "            #Se o líder atual for o próprio, então encerra a eleição\n",
    "            \n",
    "            if (o > leader_id)\n",
    "                println(\"Novo líder parcial: $o\")\n",
    "                p_knows_leader = 0\n",
    "                leader_id = o\n",
    "            end\n",
    "        end\n",
    "        p_knows_leader = p_knows_leader + 1\n",
    "        if(process == p_knows_leader)\n",
    "            break;\n",
    "        end\n",
    "        \n",
    "    end\n",
    "    leader_final = leader_id\n",
    "end\n",
    "println(\"Líder final: $leader_final\")"
   ]
  },
  {
   "cell_type": "markdown",
   "metadata": {
    "collapsed": true
   },
   "source": [
    "> Atividade realizada em 06/05/2015 e 07/05/2016, para a disciplina de Sistemas Distribuídos, semestre letivo 2015.2. Foi feita utilizando o IJulia Notebook, kernel versão 0.3.12 (para evitar avisos de objetos obsoletos durante a execução da imagem do grafo, porém as outras versões podem ser utilizadas)."
   ]
  },
  {
   "cell_type": "markdown",
   "metadata": {},
   "source": [
    "------------------------------------------------------------------------------------------------------------------"
   ]
  }
 ],
 "metadata": {
  "kernelspec": {
   "display_name": "Julia 0.4.5",
   "language": "julia",
   "name": "julia-0.4"
  },
  "language_info": {
   "file_extension": ".jl",
   "mimetype": "application/julia",
   "name": "julia",
   "version": "0.4.5"
  }
 },
 "nbformat": 4,
 "nbformat_minor": 0
}
