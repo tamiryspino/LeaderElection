{
 "cells": [
  {
   "cell_type": "markdown",
   "metadata": {},
   "source": [
    ">>  UNIVERSIDADE FEDERAL DE ALAGOAS  \n",
    ">>  INSTITUTO DE COMPUTAÇÃO  \n",
    ">>  CIÊNCIA DA COMPUTAÇÃO  \n",
    ">>  SISTEMAS DISTRIBUÍDOS  \n",
    ">>  PROF. ANDRÉ LAGE FREITAS  \n",
    "\n",
    ">Aluna: Tamirys Coelho de Oliveira Pino  \n",
    ">Matrícula: 11111457"
   ]
  },
  {
   "cell_type": "markdown",
   "metadata": {},
   "source": [
    "**Especificação: ** A atividade complementar da AB2 (10% da AB2) será a implementação e explicação do algoritmo de *comunicação em grupo* ou de *eleição de líder* que vocês escolheram e estudaram. Implementem em qualquer linguagem de programação e documente detalhadamente (em comentários) como o algoritmo funciona. Explique os passos para compilação e execução do programa no Ubuntu 15.10, incluindo instalação de pacotes (apenas com apt-get e repositórios oficiais). Entrega exclusivamente por email até o  dia 08/05/16 (prazo não extensível)."
   ]
  },
  {
   "cell_type": "markdown",
   "metadata": {},
   "source": [
    "<h3 style=\"text-align: center;\" markdown=\"1\"> Atividade Complementar da AB2</h3>"
   ]
  },
  {
   "cell_type": "markdown",
   "metadata": {},
   "source": [
    "O algoritmo escolhido foi o **algoritmo de eleição de líder em anel**. Cada processo P_i_ está conectado ao próximo processo P_i+1_. Um processo solicita a eleição por vez. O processo que tiver o maior ID é o eleito. Inicialmente, o líder é o processo que solicitou a eleição de líder. Ao ser encontrado um ID maior, este passa a ser o novo líder. Até que se o processo recebe uma mensagem com o identificador idêntico ao seu, então a eleição termina e ele é o líder oficial. Este evento só ocorre quando a mensagem contendo o maior identificador circulou por todo o anel, tornando todos os seus membros cientes do resultado.  \n",
    "Na atividade abaixo, cada nó do grafo é um processo P_i_, eles são aleatoriamente organizados. Um nó aleatório solicita a eleição de líder. Abaixo encontra-se o código comentado com os recursos utilizados."
   ]
  },
  {
   "cell_type": "code",
   "execution_count": null,
   "metadata": {
    "collapsed": true
   },
   "outputs": [],
   "source": [
    "#Adiciona o pacote que torna possível a utilização de grafos\n",
    "#Os grafos foram utilizados para melhor representação visual do anel\n",
    "Pkg.add(\"Graphs\")"
   ]
  },
  {
   "cell_type": "code",
   "execution_count": 1,
   "metadata": {
    "collapsed": false
   },
   "outputs": [
    {
     "name": "stderr",
     "output_type": "stream",
     "text": [
      "INFO: Nothing to be done\n"
     ]
    },
    {
     "name": "stdout",
     "output_type": "stream",
     "text": [
      "[2"
     ]
    }
   ],
   "source": [
    "using Graphs\n",
    "\n",
    "#Essa função recebe um grafo não preenchido e uma sequencia de ids de processos e cria um grafo cíclico\n",
    "#Seguindo a ordem dos ids passados\n",
    "function criaAnel(P, ids)\n",
    "    i = 1\n",
    "    j = i+1\n",
    "    qntProc = length(ids)\n",
    "    while i<qntProc\n",
    "        #Adiciona arestas entre os processos i e j, de acordo com a ordem passada pelo parametro ids\n",
    "        add_edge!(P, ids[i], ids[j])\n",
    "        i = i+1\n",
    "        j = j+1\n",
    "    end\n",
    "    add_edge!(P, ids[qntProc], ids[1])\n",
    "end\n",
    "\n",
    "#Quantidade de elementos de um anel de processos\n",
    "n = 8\n",
    "#Desordena um array de n elementos\n",
    "eleicao = sortperm(randn(n))\n",
    "\n",
    "#Cria um grafo P não preenchido\n",
    "P = simple_graph(n)\n",
    "\n",
    "#Cria um grafo cíclico (anel) com a ordenação definida pelo parâmetro eleicao\n",
    "criaAnel(P, eleicao)\n",
    "\n",
    "#Exige a ordenação do array de processos (nós do grafo)\n",
    "println(eleicao)"
   ]
  },
  {
   "cell_type": "markdown",
   "metadata": {},
   "source": [
    "###A imagem do grafo abaixo deixa mais clara a visualização do anel."
   ]
  },
  {
   "cell_type": "code",
   "execution_count": null,
   "metadata": {
    "collapsed": true
   },
   "outputs": [],
   "source": [
    "#Pacotes utilizados para habilitar a produção da imagem que representa o grafo cíclico (anel)\n",
    "Pkg.add(\"TikzGraphs\")"
   ]
  },
  {
   "cell_type": "code",
   "execution_count": 3,
   "metadata": {
    "collapsed": false
   },
   "outputs": [
    {
     "name": "stderr",
     "output_type": "stream",
     "text": [
      "Failed to open XLIB display: \n",
      "INFO: Nothing to be done\n",
      "WARNING: using TikzGraphs.plot in module Main conflicts with an existing identifier.\n",
      "INFO: No packages to install, update or remove\n",
      "INFO: Package database updated\n"
     ]
    }
   ],
   "source": [
    "\n",
    "#Pkg.add(\"GraphViz\")\n",
    "using TikzGraphs\n",
    "#http://nbviewer.jupyter.org/github/sisl/TikzGraphs.jl/blob/master/doc/TikzGraphs.ipynb\n",
    "#Este pacote foi utilizado devido ao erro \"Failed to open XLIB display:\" com o pacote GraphViz\n",
    "\n",
    "#Plota o grafo P em formato cíclico\n",
    "TikzGraphs.plot(P, Layouts.Spring())\n",
    "Pkg.add(\"TikzPictures\")\n",
    "using TikzPictures\n",
    "\n",
    "t = TikzGraphs.plot(P)\n",
    "using TikzPictures # this is required for saving\n",
    "#save(PDF(\"graph\"), t)\n",
    "save(SVG(\"graph\"), t)"
   ]
  },
  {
   "cell_type": "code",
   "execution_count": 4,
   "metadata": {
    "collapsed": false
   },
   "outputs": [
    {
     "name": "stdout",
     "output_type": "stream",
     "text": [
      "2 solicitou uma eleição!\n",
      "Novo líder parcial: 2\n",
      "3 > 2 ?\n",
      "Novo líder parcial: 3\n",
      "6 > 3 ?\n",
      "Novo líder parcial: 6\n",
      "1 > 6 ?\n",
      "7 > 6 ?\n",
      "Novo líder parcial: 7\n",
      "5 > 7 ?\n",
      "4 > 7 ?\n",
      "8 > 7 ?\n",
      "Novo líder parcial: 8\n",
      "2 > 8 ?\n",
      "3 > 8 ?\n",
      "6 > 8 ?\n",
      "1 > 8 ?\n",
      "7 > 8 ?\n",
      "5 > 8 ?\n",
      "4 > 8 ?\n",
      "Líder final: 8\n"
     ]
    }
   ],
   "source": [
    "#Processo aleatório solicita a eleição\n",
    "x = rand(1:n)\n",
    "println(\"$x solicitou uma eleição!\")\n",
    "println(\"Novo líder parcial: $x\")\n",
    "\n",
    "#Array de processos é reordenado para começar a eleição pelo processo que a solicitou\n",
    "#Encontra-se o index do processo no array de processos (está operação retorna um array de um elemento)\n",
    "#Foi colocada a operação de soma para que fosse retornado um valor inteiro e não um array\n",
    "a = sum(find(eleicao -> eleicao == x, eleicao))\n",
    "#É feita a sublista a partir do processo para o final do array\n",
    "b = sub(eleicao, a:length(eleicao))\n",
    "#Outro sublista é feita do início do array até o processo\n",
    "c = sub(eleicao, 1:(a-1))\n",
    "#As sublistas são concatenadas, de forma que o processo que solicitou a eleição, comece-a, sem modificar a estrutura do anel.\n",
    "eleicao = vcat(b, c)\n",
    "\n",
    "#Lider inicial é aquele que solicitou a eleição\n",
    "leader_id = x\n",
    "#Líder final é desconhecido (será o que tiver maior ID)\n",
    "leader_final = 0\n",
    "#Quantidade total de participantes no processo\n",
    "process = length(eleicao)\n",
    "#Quantidade de processos que conhecem o novo líder\n",
    "p_knows_leader = 0\n",
    "\n",
    "while(process != p_knows_leader)\n",
    "    #Para cada membro do anel eleicao\n",
    "    for u in eleicao\n",
    "        #O id do líder atual é passado para o próximo membro do anel, seguindo o sentido horário\n",
    "        for o in out_neighbors(vertices(P)[u], P)\n",
    "            #Se o próximo membro possuir um id maior que o do líder atual, então ele toma o posto de líder\n",
    "            println(\"$o > $leader_id ?\")\n",
    "            #Se o líder atual for o próprio, então encerra a eleição\n",
    "            \n",
    "            if (o > leader_id)\n",
    "                println(\"Novo líder parcial: $o\")\n",
    "                p_knows_leader = 0\n",
    "                leader_id = o\n",
    "            end\n",
    "        end\n",
    "        p_knows_leader = p_knows_leader + 1\n",
    "        if(process == p_knows_leader)\n",
    "            break;\n",
    "        end\n",
    "        \n",
    "    end\n",
    "    leader_final = leader_id\n",
    "end\n",
    "println(\"Líder final: $leader_final\")"
   ]
  },
  {
   "cell_type": "markdown",
   "metadata": {
    "collapsed": true
   },
   "source": [
    "> Atividade realizada em 06/05/2015 e 07/05/2016, para a disciplina de Sistemas Distribuídos, semestre letivo 2015.2. Foi feita utilizando o IJulia Notebook, kernel versão 0.3.12 (para evitar avisos de objetos obsoletos durante a execução da imagem do grafo, porém as outras versões podem ser utilizadas)."
   ]
  },
  {
   "cell_type": "markdown",
   "metadata": {},
   "source": [
    "------------------------------------------------------------------------------------------------------------------"
   ]
  }
 ],
 "metadata": {
  "kernelspec": {
   "display_name": "Julia 0.4.5",
   "language": "julia",
   "name": "julia-0.4"
  },
  "language_info": {
   "file_extension": ".jl",
   "mimetype": "application/julia",
   "name": "julia",
   "version": "0.4.5"
  }
 },
 "nbformat": 4,
 "nbformat_minor": 0
}
